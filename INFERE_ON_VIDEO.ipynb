{
 "cells": [
  {
   "cell_type": "code",
   "execution_count": 1,
   "metadata": {},
   "outputs": [],
   "source": [
    "import torch\n",
    "import cv2\n",
    "import matplotlib.pyplot as plt\n",
    "from PIL import Image\n",
    "\n",
    "from ssd.config import cfg\n",
    "import numpy as np\n",
    "\n",
    "from ssd.data.transforms import build_transforms\n",
    "from ssd.modeling.detector import build_detection_model\n",
    "from ssd.utils.checkpoint import CheckPointer"
   ]
  },
  {
   "cell_type": "markdown",
   "metadata": {},
   "source": [
    "### Load model"
   ]
  },
  {
   "cell_type": "code",
   "execution_count": 2,
   "metadata": {},
   "outputs": [],
   "source": [
    "cfg.merge_from_file('configs/mobilenet_v2_ssd320_japan_heads.yaml')\n",
    "cfg.freeze()\n",
    "\n",
    "device = torch.device(cfg.MODEL.DEVICE)\n",
    "\n",
    "model = build_detection_model(cfg)\n",
    "model = model.to(device)"
   ]
  },
  {
   "cell_type": "markdown",
   "metadata": {},
   "source": [
    "### Load weights"
   ]
  },
  {
   "cell_type": "code",
   "execution_count": 3,
   "metadata": {},
   "outputs": [
    {
     "name": "stdout",
     "output_type": "stream",
     "text": [
      "Loaded weights from final\n"
     ]
    }
   ],
   "source": [
    "ckpt = 'final'\n",
    "checkpointer = CheckPointer(model, save_dir=cfg.OUTPUT_DIR)\n",
    "checkpointer.load(ckpt)\n",
    "\n",
    "weight_file = ckpt if ckpt else checkpointer.get_checkpoint_file()\n",
    "print('Loaded weights from {}'.format(weight_file))"
   ]
  },
  {
   "cell_type": "markdown",
   "metadata": {},
   "source": [
    "### Load preprocessing transformations and set model to eval"
   ]
  },
  {
   "cell_type": "code",
   "execution_count": 4,
   "metadata": {},
   "outputs": [],
   "source": [
    "cpu_device = torch.device(\"cpu\")\n",
    "transforms = build_transforms(cfg, is_train=False)\n",
    "model = model.eval()"
   ]
  },
  {
   "cell_type": "markdown",
   "metadata": {},
   "source": [
    "### Infer"
   ]
  },
  {
   "cell_type": "code",
   "execution_count": 60,
   "metadata": {},
   "outputs": [
    {
     "data": {
      "text/plain": [
       "{'boxes': tensor([[622.2898, 144.5001, 693.1730, 211.2545]], device='cuda:0',\n",
       "       grad_fn=<CopySlices>), 'labels': tensor([1], device='cuda:0'), 'scores': tensor([0.2509], device='cuda:0', grad_fn=<CatBackward>)}"
      ]
     },
     "execution_count": 60,
     "metadata": {},
     "output_type": "execute_result"
    }
   ],
   "source": [
    "# img = np.array(Image.open('../data/JapanHeads/val/18100.jpg').convert(\"RGB\"))\n",
    "img = cv2.imread('../data/JapanHeads/val/18100.jpg')\n",
    "# img = cv2.imread('../data/JapanHeads/without_annotation/10.jpg')\n",
    "height, width = img.shape[:2]\n",
    "images = transforms(img[::,::,::-1])[0].unsqueeze(0)\n",
    "result = model(images.to(device))[0]\n",
    "result = result.resize((width, height))\n",
    "result"
   ]
  },
  {
   "cell_type": "code",
   "execution_count": 61,
   "metadata": {},
   "outputs": [
    {
     "name": "stdout",
     "output_type": "stream",
     "text": [
      " BOXES:  [[622 144 693 211]]\n",
      " LABELS: [1]\n",
      " SCORES: [0.25088254]\n",
      "\n"
     ]
    }
   ],
   "source": [
    "# xmin,ymin,xmax,ymax\n",
    "boxes = result['boxes'].cpu().detach().numpy().astype(np.int32)\n",
    "labels = result['labels'].cpu().detach().numpy()\n",
    "scores = result['scores'].cpu().detach().numpy()\n",
    "print(\" BOXES:  {}\\n LABELS: {}\\n SCORES: {}\\n\".format(boxes, labels, scores))"
   ]
  },
  {
   "cell_type": "markdown",
   "metadata": {},
   "source": [
    "### Measure speed"
   ]
  },
  {
   "cell_type": "code",
   "execution_count": 68,
   "metadata": {},
   "outputs": [],
   "source": [
    "import numpy as np\n",
    "from typing import Tuple\n",
    "\n",
    "\n",
    "def one_inf_timeit(model, img):\n",
    "    \"proper way to test pytorch speed\"\n",
    "    torch.cuda.synchronize()\n",
    "    model(img)\n",
    "    torch.cuda.synchronize()\n",
    "    \n",
    "\n",
    "def get_random_image(shape: Tuple[int, int, int]) -> 'np.ndarray':\n",
    "    \"\"\" Generate image of random noise\n",
    "\n",
    "        :param shape: ``(height, width, channels_num)``\n",
    "    \"\"\"\n",
    "    img = (np.random.standard_normal(shape) * 255).astype(np.uint8)\n",
    "    return img"
   ]
  },
  {
   "cell_type": "code",
   "execution_count": 92,
   "metadata": {},
   "outputs": [],
   "source": [
    "# no heads\n",
    "tmp = get_random_image((800, 800, 3))\n",
    "# 4 heads\n",
    "# tmp = cv2.imread('../data/JapanHeads/val/12660.jpg')\n",
    "# 3 heads\n",
    "# tmp = cv2.imread('../data/JapanHeads/val/11810.jpg')\n",
    "# 2 heads\n",
    "# tmp = cv2.imread('../data/JapanHeads/val/11600.jpg')\n",
    "# 1 head\n",
    "# tmp = cv2.imread('../data/JapanHeads/val/11890.jpg')\n",
    "images = transforms(tmp)[0].unsqueeze(0).to(device)\n",
    "result = model(images)[0]"
   ]
  },
  {
   "cell_type": "code",
   "execution_count": 93,
   "metadata": {},
   "outputs": [
    {
     "data": {
      "text/plain": [
       "{'boxes': tensor([[266.5766, 247.8599, 291.5484, 299.7392],\n",
       "        [278.4569, 298.0273, 299.7634, 321.4557],\n",
       "        [236.5461, 298.2168, 272.0642, 325.3221],\n",
       "        [185.3083, 103.5119, 212.0902, 161.9665],\n",
       "        [122.0137, 181.0517, 394.9421, 309.6594],\n",
       "        [-10.4037, -76.6183, 162.1928, 231.3325],\n",
       "        [266.4202, 137.5987, 291.6492, 187.7287],\n",
       "        [266.3672, 169.4090, 291.3798, 219.4443],\n",
       "        [289.3322, 106.8751, 312.3366, 138.1237],\n",
       "        [-72.8196, 151.5488, 229.2905, 306.9632],\n",
       "        [126.6672,  33.5477, 387.3025, 269.7906],\n",
       "        [ 99.2787,  90.8285, 415.7716, 199.5222],\n",
       "        [ 54.3121,  -2.6096, 397.6073, 181.2968],\n",
       "        [188.7678,  89.0289, 304.6007, 401.8643],\n",
       "        [  7.3673,  86.1046, 149.3089, 382.9861],\n",
       "        [147.4899, -68.0802, 302.1010, 227.7193]], device='cuda:0',\n",
       "       grad_fn=<CatBackward>), 'labels': tensor([1, 1, 1, 1, 1, 1, 1, 1, 1, 1, 1, 1, 1, 1, 1, 1], device='cuda:0'), 'scores': tensor([0.0257, 0.0158, 0.0136, 0.0125, 0.0123, 0.0123, 0.0120, 0.0120, 0.0116,\n",
       "        0.0114, 0.0108, 0.0107, 0.0107, 0.0106, 0.0105, 0.0101],\n",
       "       device='cuda:0', grad_fn=<CatBackward>)}"
      ]
     },
     "execution_count": 93,
     "metadata": {},
     "output_type": "execute_result"
    }
   ],
   "source": [
    "result"
   ]
  },
  {
   "cell_type": "code",
   "execution_count": 95,
   "metadata": {},
   "outputs": [
    {
     "name": "stdout",
     "output_type": "stream",
     "text": [
      "7.77 ms ± 122 µs per loop (mean ± std. dev. of 7 runs, 100 loops each)\n"
     ]
    }
   ],
   "source": [
    "# speed does not differ from 1 to 16 objects on image (I did not test >16)\n",
    "%%timeit\n",
    "one_inf_timeit(model, images)"
   ]
  },
  {
   "cell_type": "code",
   "execution_count": 79,
   "metadata": {},
   "outputs": [
    {
     "data": {
      "text/plain": [
       "88.49557522123894"
      ]
     },
     "execution_count": 79,
     "metadata": {},
     "output_type": "execute_result"
    }
   ],
   "source": [
    "# FPS\n",
    "1000/11.3"
   ]
  },
  {
   "cell_type": "markdown",
   "metadata": {},
   "source": [
    "## Plot on video"
   ]
  },
  {
   "cell_type": "markdown",
   "metadata": {},
   "source": [
    "### Define drawing function"
   ]
  },
  {
   "cell_type": "code",
   "execution_count": 52,
   "metadata": {},
   "outputs": [],
   "source": [
    "def SSD_predict(frame, model):\n",
    "    height, width = frame.shape[:2]\n",
    "    blob = transforms(frame[::,::,::-1])[0].unsqueeze(0)\n",
    "    result = model(blob.to(device))[0]\n",
    "    result = result.resize((width, height))\n",
    "    boxes = result['boxes'].cpu().detach().numpy().astype(np.int32)\n",
    "    labels = result['labels'].cpu().detach().numpy()\n",
    "    scores = result['scores'].cpu().detach().numpy()\n",
    "    \n",
    "    for i in range(len(boxes)):\n",
    "        b = boxes[i]\n",
    "        s = scores[i]\n",
    "        if s > 0.2:\n",
    "            p1 = tuple(b[:2])\n",
    "            p2 = tuple(b[2:])\n",
    "            cv2.rectangle(frame, p1, p2, (0, 123, 255), 4)\n",
    "            cv2.putText(frame, \"{:.02f}\".format(s), (p1[0], p1[1] - 2),\n",
    "                        cv2.FONT_HERSHEY_COMPLEX, 0.75, (0,255,0))\n",
    "    return frame"
   ]
  },
  {
   "cell_type": "markdown",
   "metadata": {},
   "source": [
    "### Test"
   ]
  },
  {
   "cell_type": "code",
   "execution_count": 53,
   "metadata": {},
   "outputs": [
    {
     "data": {
      "text/plain": [
       "<matplotlib.image.AxesImage at 0x7efc001525c0>"
      ]
     },
     "execution_count": 53,
     "metadata": {},
     "output_type": "execute_result"
    },
    {
     "data": {
      "image/png": "[encoded data removed]",
      "text/plain": [
       "<Figure size 432x288 with 1 Axes>"
      ]
     },
     "metadata": {
      "needs_background": "light"
     },
     "output_type": "display_data"
    }
   ],
   "source": [
    "img = cv2.imread('../data/JapanHeads/val/18100.jpg')\n",
    "# img = cv2.imread('../data/JapanHeads/without_annotation/10.jpg')\n",
    "tmp = SSD_predict(img, model)\n",
    "plt.imshow(tmp[::,::,::-1])"
   ]
  },
  {
   "cell_type": "markdown",
   "metadata": {},
   "source": [
    "### Get video wrapper"
   ]
  },
  {
   "cell_type": "code",
   "execution_count": 54,
   "metadata": {},
   "outputs": [],
   "source": [
    "import cv2\n",
    "import magic\n",
    "import os\n",
    "from tqdm import tqdm\n",
    "import numpy as np\n",
    "import functools\n",
    "from typing import Callable\n",
    "\n",
    "\n",
    "def videowriter_wrapper(func: 'Callable', IN: str, OUT: str, CODEC: str = \"MP4V\",\n",
    "                        out_shape: tuple = None, time: int = None,\n",
    "                        from_frame: int = None, *args, **kwargs) -> 'Callable':\n",
    "    \"\"\" :param func: function in form ``func(frame, *args, **kwargs) -> frame``\n",
    "        :param IN: file or rtsp stream\n",
    "        :param OUT: file name\n",
    "        :param CODEC: ``\"MP4V\"`` or ``\"MJPG\"`` or (``\"H264\"`` not for opencv-python), defaults to ``\"MP4V\"``\n",
    "        :param out_shape: ``tuple(width, height)``, defaults to ``None``\n",
    "        :param time: seconds to crop from start, defaults to ``None``\n",
    "        :param from_frame: start frame position, defaults to ``None``\n",
    "\n",
    "        **Examples:**\n",
    "\n",
    "        .. code-block:: python\n",
    "\n",
    "            write_15s = videowriter_wrapper(lambda x: x, path_img, out_path, time=15)\n",
    "            write_15s()\n",
    "\n",
    "            process_video = videowriter_wrapper(plot_persons, args.IN, args.OUT)\n",
    "            process_video(yolo, model, shape=(224, 224))\n",
    "    \"\"\"\n",
    "    @functools.wraps(func)\n",
    "    def inner(*args, **kwargs):\n",
    "        # open input file\n",
    "        INPUT = cv2.VideoCapture(IN)\n",
    "        if out_shape:\n",
    "            W, H = out_shape\n",
    "        else:\n",
    "            W = int(INPUT.get(cv2.CAP_PROP_FRAME_WIDTH))\n",
    "            H = int(INPUT.get(cv2.CAP_PROP_FRAME_HEIGHT))\n",
    "        FPS = float(INPUT.get(cv2.CAP_PROP_FPS))\n",
    "        if time:\n",
    "            TARGET_FRAMES = int(FPS * time)\n",
    "            if from_frame:\n",
    "                delta = int(from_frame)\n",
    "                INPUT.set(cv2.CAP_PROP_POS_FRAMES, delta)\n",
    "        else:\n",
    "            TARGET_FRAMES = int(INPUT.get(cv2.CAP_PROP_FRAME_COUNT))\n",
    "            if from_frame:\n",
    "                delta = int(from_frame)\n",
    "                INPUT.set(cv2.CAP_PROP_POS_FRAMES, delta)\n",
    "                TARGET_FRAMES -= delta\n",
    "\n",
    "        # open output file\n",
    "        fourcc = cv2.VideoWriter_fourcc(*CODEC)\n",
    "        writer = cv2.VideoWriter(OUT, fourcc, FPS, (W, H), True)\n",
    "\n",
    "        # process every frame\n",
    "        for i in tqdm(range(TARGET_FRAMES)):\n",
    "            if INPUT.isOpened():\n",
    "                grabbed, frame = INPUT.read()\n",
    "                ###\n",
    "                frame = func(frame, *args, **kwargs)\n",
    "                ###\n",
    "                if out_shape:\n",
    "                    frame = cv2.resize(frame, out_shape)\n",
    "                writer.write(frame)\n",
    "        # close files\n",
    "        writer.release()\n",
    "        INPUT.release()\n",
    "    return inner"
   ]
  },
  {
   "cell_type": "code",
   "execution_count": 55,
   "metadata": {},
   "outputs": [],
   "source": [
    "process_video = videowriter_wrapper(SSD_predict,\n",
    "                                    'cropped.mp4',\n",
    "                                    'out.mp4',\n",
    "                                    time=10)"
   ]
  },
  {
   "cell_type": "markdown",
   "metadata": {},
   "source": [
    "### Process"
   ]
  },
  {
   "cell_type": "code",
   "execution_count": 56,
   "metadata": {},
   "outputs": [
    {
     "name": "stderr",
     "output_type": "stream",
     "text": [
      "100%|██████████| 300/300 [00:05<00:00, 53.63it/s]\n"
     ]
    }
   ],
   "source": [
    "process_video(model)"
   ]
  },
  {
   "cell_type": "code",
   "execution_count": null,
   "metadata": {},
   "outputs": [],
   "source": []
  }
 ],
 "metadata": {
  "kernelspec": {
   "display_name": "Python 3",
   "language": "python",
   "name": "python3"
  },
  "language_info": {
   "codemirror_mode": {
    "name": "ipython",
    "version": 3
   },
   "file_extension": ".py",
   "mimetype": "text/x-python",
   "name": "python",
   "nbconvert_exporter": "python",
   "pygments_lexer": "ipython3",
   "version": "3.6.8"
  }
 },
 "nbformat": 4,
 "nbformat_minor": 2
}
